{
 "cells": [
  {
   "cell_type": "markdown",
   "id": "1d03f561-cfbd-4b97-8460-e77347c22ab6",
   "metadata": {},
   "source": [
    "# Jupyter (Javascript + Python) Widgets"
   ]
  },
  {
   "cell_type": "markdown",
   "id": "5a4cedc1-4329-487a-89ba-fb327e162432",
   "metadata": {},
   "source": [
    "The purpose of this application is to demonstrate how to\n",
    "* send python variable and javascript to the browser\n",
    "* get javascript variables back to python kernel\n",
    "\n",
    "With Notebook compatible technology, using jupyter lab or notebook IDE and deployed as a Notebook and python module files (httpserver).\n",
    "\n",
    "The **prerequisite** is that the jupyter server is enabled with **[jupyter server proxy](https://github.com/jupyterhub/jupyter-server-proxy)**.\n",
    "\n",
    "It's fully validated using Jupyter Lab, and should work with 'minor' adaptation with classical notebooks\n",
    "\n",
    "The steps are:\n",
    "\n",
    "1. From the notebook, open an HTTP server, listening on port 8080 (could be randomized), able to serve 'get request' from the notebook\n",
    "2. Use objects with _repr_javascript_ wich will call the above HTTP server\n",
    "3. Wait the response which postion attributes in the **bag** object. This step is needed as the response is asynchronous\n",
    "\n",
    "With this technology, we can, for example:\n",
    "\n",
    "1. get the notebook url back in the python kernel\n",
    "2. get the Geo position of the user (from the browser, requires a secured connection)\n",
    "4. create an html5 range and monitor the value change from the user\n",
    "3. more generally, get any variable accessible from the javascript's browser back to the python notebook\n",
    "\n",
    "The 3 first use cases are demonstrated in this notebook"
   ]
  },
  {
   "cell_type": "markdown",
   "id": "0c59cd42-c9b9-4b82-8959-c28738433b71",
   "metadata": {},
   "source": [
    "# Libraries"
   ]
  },
  {
   "cell_type": "code",
   "execution_count": 1,
   "id": "1c52d972-248f-431f-9bcf-515a5297ef05",
   "metadata": {},
   "outputs": [],
   "source": [
    "from httpserver import start, stop\n",
    "from http.server import SimpleHTTPRequestHandler, HTTPServer\n",
    "import os\n",
    "from urllib.parse import urlparse, parse_qs\n",
    "from IPython.display import clear_output\n",
    "import json\n",
    "import ipywidgets as widgets\n",
    "import time"
   ]
  },
  {
   "cell_type": "markdown",
   "id": "ca1eb9a7-bbd6-4070-b46a-7ea5bf2a0795",
   "metadata": {},
   "source": [
    "## Backend: the HTTP server"
   ]
  },
  {
   "cell_type": "markdown",
   "id": "dab18990-b75e-4282-b1d9-54cfd67a4d4f",
   "metadata": {
    "tags": []
   },
   "source": [
    "### Widgets python implementation"
   ]
  },
  {
   "cell_type": "code",
   "execution_count": 2,
   "id": "73386714-13c6-4de2-af51-d070813dee53",
   "metadata": {},
   "outputs": [
    {
     "data": {
      "application/vnd.jupyter.widget-view+json": {
       "model_id": "dd37e4ee3d24493ba910c4a011f8c8f8",
       "version_major": 2,
       "version_minor": 0
      },
      "text/plain": [
       "Textarea(value='', layout=Layout(width='50%'))"
      ]
     },
     "metadata": {},
     "output_type": "display_data"
    }
   ],
   "source": [
    "logsw=widgets.Textarea(layout=widgets.Layout(width='50%'))\n",
    "logsw.value = \"\"\n",
    "bag ={}\n",
    "class myHTTPRequestHandler(SimpleHTTPRequestHandler):\n",
    "    callback={}\n",
    "    def __init__(self, *args, directory=None,bag=bag, **kwargs):\n",
    "        self.bag = bag\n",
    "        self.directory = os.path.join(os.getcwd(),\"widgets\")\n",
    "        super().__init__(*args, directory=self.directory, **kwargs)\n",
    "        # print(self.directory)\n",
    "    def end_headers(self):\n",
    "        super().end_headers()\n",
    "    def do_GET(self):\n",
    "        self.parsed_path = urlparse(self.path)\n",
    "        self.queryparams = parse_qs(self.parsed_path.query)\n",
    "        if self.path.endswith('/version'):\n",
    "            self.version()\n",
    "        elif self.parsed_path.path.endswith('location'):\n",
    "            self.location()\n",
    "        elif self.parsed_path.path.endswith('position'):\n",
    "            self.position()\n",
    "        elif self.parsed_path.path.endswith('_range'):\n",
    "            self._range()\n",
    "        else:\n",
    "            super().do_GET()\n",
    "    def version(self):\n",
    "        ans = '{\"version\": \"0.0\"}'\n",
    "        eans = ans.encode()        \n",
    "        self.send_response(200)\n",
    "        self.send_header(\"Content-type\", \"application/json\")\n",
    "        self.send_header(\"Content-Length\",len(eans))\n",
    "        self.end_headers()\n",
    "        self.wfile.write(eans)\n",
    "    def location(self):\n",
    "        self.bag.update({self.queryparams['variable'][0]:self.queryparams['location'][0]})\n",
    "        if 'location' in myHTTPRequestHandler.callback:\n",
    "            self.callback['location'](self.queryparams['location'][0])\n",
    "        self.version() \n",
    "    def position(self):\n",
    "        if 'error' in self.queryparams:\n",
    "            self.bag.update({self.queryparams['variable'][0]:\"error\"})\n",
    "        else:\n",
    "            self.bag.update({self.queryparams['variable'][0]:self.queryparams['position'][0]})\n",
    "        if 'position' in self.callback:\n",
    "            if 'error' in self.queryparams:\n",
    "                self.callback['position']({\"error\":self.queryparams['error'][0]})\n",
    "            else:\n",
    "                self.callback['position'](self.queryparams['position'][0])\n",
    "        self.version()\n",
    "    def _range(self):\n",
    "        self.bag.update({self.queryparams['variable'][0]:self.queryparams['value'][0]})\n",
    "        if '_range' in self.callback:\n",
    "            self.callback['_range'](self.queryparams['value'][0])\n",
    "        self.version()\n",
    "    def log_message(self, format, *args):\n",
    "        global logsw\n",
    "        v = format % args\n",
    "        t = time.localtime()\n",
    "        current_time = time.strftime(\"%H:%M:%S\", t)\n",
    "        logsw.value += current_time + \" \" + v +\"\\n\"\n",
    "logsw"
   ]
  },
  {
   "cell_type": "code",
   "execution_count": 3,
   "id": "3ea0393e-6626-4740-a33c-9cd583dda533",
   "metadata": {},
   "outputs": [
    {
     "name": "stdout",
     "output_type": "stream",
     "text": [
      "Starting httpd...\n"
     ]
    }
   ],
   "source": [
    "start(handler_class=myHTTPRequestHandler)"
   ]
  },
  {
   "cell_type": "markdown",
   "id": "1426085b-5f76-4a3f-b7d2-2ad5bb6360b2",
   "metadata": {},
   "source": [
    "## Frontend: Widgets javascript implementation"
   ]
  },
  {
   "cell_type": "markdown",
   "id": "9a4e166c-53cb-4764-bb8a-a604ba1bc154",
   "metadata": {},
   "source": [
    "### Get calling url"
   ]
  },
  {
   "cell_type": "markdown",
   "id": "fa3f42d5-0cb6-4edf-8e0d-6bdf209d02f6",
   "metadata": {},
   "source": [
    "Enable to get the server path and the notebook name"
   ]
  },
  {
   "cell_type": "code",
   "execution_count": 4,
   "id": "17e2209b-2798-4f21-9171-102dc892cc5a",
   "metadata": {},
   "outputs": [
    {
     "name": "stdout",
     "output_type": "stream",
     "text": [
      "\n"
     ]
    }
   ],
   "source": [
    "class Location(object):\n",
    "    def __init__(self,variable):\n",
    "        self.variable=variable\n",
    "    def _repr_javascript_(self):\n",
    "        \"\"\"Return the code definitions and all invocations\"\"\"\n",
    "        return f\"\"\"function jlb_location(variable) {{\n",
    "        element.append(window.location); \n",
    "        fetch( window.location.origin+'/proxy/8080/location?location='+encodeURIComponent(window.location)+'&variable='+variable ) \n",
    "        .then(response => response.json())\n",
    "        .then(data => console.log(data));;\n",
    "    }}\n",
    "    jlb_location('{self.variable}');\n",
    "\"\"\""
   ]
  },
  {
   "cell_type": "code",
   "execution_count": 5,
   "id": "1f034835-7722-4ce0-a979-ac3f1897d946",
   "metadata": {},
   "outputs": [
    {
     "data": {
      "application/vnd.jupyter.widget-view+json": {
       "model_id": "0d04074ccd4241d3b629312bd8182086",
       "version_major": 2,
       "version_minor": 0
      },
      "text/plain": [
       "Label(value='')"
      ]
     },
     "metadata": {},
     "output_type": "display_data"
    }
   ],
   "source": [
    "loc = widgets.Label()\n",
    "def located_cb(value):\n",
    "    global loc\n",
    "    loc.value = str(value)\n",
    "location = Location('located')\n",
    "myHTTPRequestHandler.callback.update({\"location\": located_cb})\n",
    "loc"
   ]
  },
  {
   "cell_type": "code",
   "execution_count": 6,
   "id": "457fe51f-221e-48ff-b361-a4887e5bcec6",
   "metadata": {},
   "outputs": [
    {
     "data": {
      "application/javascript": [
       "function jlb_location(variable) {\n",
       "        element.append(window.location); \n",
       "        fetch( window.location.origin+'/proxy/8080/location?location='+encodeURIComponent(window.location)+'&variable='+variable ) \n",
       "        .then(response => response.json())\n",
       "        .then(data => console.log(data));;\n",
       "    }\n",
       "    jlb_location('located');\n"
      ],
      "text/plain": [
       "<__main__.Location at 0x7efcd868bfa0>"
      ]
     },
     "execution_count": 6,
     "metadata": {},
     "output_type": "execute_result"
    }
   ],
   "source": [
    "location"
   ]
  },
  {
   "cell_type": "markdown",
   "id": "bdc14a6d-6a77-47fe-a2da-9b771eaed795",
   "metadata": {},
   "source": [
    "### Get the user position"
   ]
  },
  {
   "cell_type": "markdown",
   "id": "3684300e-2a03-4d19-8342-cb83d799f0cd",
   "metadata": {},
   "source": [
    "Requires a secured connection, else will return an error"
   ]
  },
  {
   "cell_type": "code",
   "execution_count": 7,
   "id": "200c95a8-07f1-4cb0-813f-008b15854a1b",
   "metadata": {},
   "outputs": [],
   "source": [
    "fp = \"\"\"function geoFindMe(variable) {\n",
    "  function success(position) {\n",
    "    const latitude  = position.coords.latitude;\n",
    "    const longitude = position.coords.longitude;\n",
    "    fetch( window.location.origin+'/proxy/8080/position?position='+encodeURIComponent(JSON.stringify({latitude:latitude,longitude:longitude}))+'&variable='+variable )\n",
    "  }\n",
    "\n",
    "  function error() {\n",
    "    fetch( window.location.origin+'/proxy/8080/position?error=true&variable='+variable )\n",
    "  }\n",
    "  if(!navigator.geolocation) {\n",
    "    fetch( window.location.origin+'/proxy/8080/position?error=Geolocation is not supported by your browser&variable='+variable );\n",
    "  } else {\n",
    "    navigator.geolocation.getCurrentPosition(success, error);\n",
    "  }\n",
    "}\n",
    "\"\"\"\n",
    "class Position(object):\n",
    "    def __init__(self,variable):\n",
    "        self.variable=variable\n",
    "    def _repr_javascript_(self):\n",
    "        return fp + f\"geoFindMe('{self.variable}');\""
   ]
  },
  {
   "cell_type": "code",
   "execution_count": 8,
   "id": "18daf006-65c0-48bd-8645-d7a7c1f7187d",
   "metadata": {},
   "outputs": [
    {
     "data": {
      "application/vnd.jupyter.widget-view+json": {
       "model_id": "421dc141809e4155856cde4b9aabf254",
       "version_major": 2,
       "version_minor": 0
      },
      "text/plain": [
       "Label(value='')"
      ]
     },
     "metadata": {},
     "output_type": "display_data"
    }
   ],
   "source": [
    "pos = widgets.Label()\n",
    "def positioned_cb(value):\n",
    "    global pos\n",
    "    pos.value = str(value)\n",
    "position = Position('positioned')\n",
    "myHTTPRequestHandler.callback.update({\"position\": positioned_cb})\n",
    "pos"
   ]
  },
  {
   "cell_type": "code",
   "execution_count": 9,
   "id": "06df7ba4-44be-4894-86d0-2604f64e7ea2",
   "metadata": {},
   "outputs": [
    {
     "data": {
      "application/javascript": [
       "function geoFindMe(variable) {\n",
       "  function success(position) {\n",
       "    const latitude  = position.coords.latitude;\n",
       "    const longitude = position.coords.longitude;\n",
       "    fetch( window.location.origin+'/proxy/8080/position?position='+encodeURIComponent(JSON.stringify({latitude:latitude,longitude:longitude}))+'&variable='+variable )\n",
       "  }\n",
       "\n",
       "  function error() {\n",
       "    fetch( window.location.origin+'/proxy/8080/position?error=true&variable='+variable )\n",
       "  }\n",
       "  if(!navigator.geolocation) {\n",
       "    fetch( window.location.origin+'/proxy/8080/position?error=Geolocation is not supported by your browser&variable='+variable );\n",
       "  } else {\n",
       "    navigator.geolocation.getCurrentPosition(success, error);\n",
       "  }\n",
       "}\n",
       "geoFindMe('positioned');"
      ],
      "text/plain": [
       "<__main__.Position at 0x7efcd8578c70>"
      ]
     },
     "execution_count": 9,
     "metadata": {},
     "output_type": "execute_result"
    }
   ],
   "source": [
    "position"
   ]
  },
  {
   "cell_type": "markdown",
   "id": "0c16a4c8-2922-4519-ad37-265d6b07712e",
   "metadata": {},
   "source": [
    "### An html5 range"
   ]
  },
  {
   "cell_type": "code",
   "execution_count": 10,
   "id": "dddeb288-dc1c-47c5-91ed-f18682a45d3c",
   "metadata": {},
   "outputs": [],
   "source": [
    "class Range(object):\n",
    "    def __init__(self,variable):\n",
    "        self.variable=variable\n",
    "    def _repr_javascript_(self):\n",
    "        return f\"\"\"window.rangeChange = function(range){{\n",
    "            fetch( window.location.origin+'/proxy/8080/_range?value='+range.value+'&variable={self.variable}' )\n",
    "        }}\n",
    "        debugger;\n",
    "        element.insertAdjacentHTML('beforeend','<input type=\"range\" min=\"1\" max=\"100\" value=\"50\" onchange=\"rangeChange(this)\">');\n",
    "        \"\"\"\n",
    "    # likely to be this.element[0] for legacy notebook but need some investigation"
   ]
  },
  {
   "cell_type": "code",
   "execution_count": 11,
   "id": "2bfa528c-6e2b-4033-9ba6-157fe58d466c",
   "metadata": {},
   "outputs": [
    {
     "name": "stderr",
     "output_type": "stream",
     "text": [
      "----------------------------------------\n",
      "Exception occurred during processing of request from ('127.0.0.1', 57076)\n",
      "Traceback (most recent call last):\n",
      "  File \"/usr/lib/python3.9/socketserver.py\", line 683, in process_request_thread\n",
      "    self.finish_request(request, client_address)\n",
      "  File \"/usr/lib/python3.9/socketserver.py\", line 360, in finish_request\n",
      "    self.RequestHandlerClass(request, client_address, self)\n",
      "  File \"/tmp/ipykernel_648/1993679704.py\", line 9, in __init__\n",
      "    super().__init__(*args, directory=self.directory, **kwargs)\n",
      "  File \"/usr/lib/python3.9/http/server.py\", line 653, in __init__\n",
      "    super().__init__(*args, **kwargs)\n",
      "  File \"/usr/lib/python3.9/socketserver.py\", line 747, in __init__\n",
      "    self.handle()\n",
      "  File \"/usr/lib/python3.9/http/server.py\", line 427, in handle\n",
      "    self.handle_one_request()\n",
      "  File \"/usr/lib/python3.9/http/server.py\", line 415, in handle_one_request\n",
      "    method()\n",
      "  File \"/tmp/ipykernel_648/1993679704.py\", line 19, in do_GET\n",
      "    self.location()\n",
      "  File \"/tmp/ipykernel_648/1993679704.py\", line 38, in location\n",
      "    self.version()\n",
      "  File \"/tmp/ipykernel_648/1993679704.py\", line 29, in version\n",
      "    self.send_response(200)\n",
      "  File \"/usr/lib/python3.9/http/server.py\", line 492, in send_response\n",
      "    self.log_request(code)\n",
      "  File \"/usr/lib/python3.9/http/server.py\", line 544, in log_request\n",
      "    self.log_message('\"%s\" %s %s',\n",
      "  File \"/tmp/ipykernel_648/1993679704.py\", line 58, in log_message\n",
      "    t = time.localtime()\n",
      "NameError: name 'time' is not defined\n",
      "----------------------------------------\n"
     ]
    },
    {
     "data": {
      "application/vnd.jupyter.widget-view+json": {
       "model_id": "b40473e8805b4315aac8be08c0c92ba5",
       "version_major": 2,
       "version_minor": 0
      },
      "text/plain": [
       "HBox(children=(Output(), Label(value='')))"
      ]
     },
     "metadata": {},
     "output_type": "display_data"
    }
   ],
   "source": [
    "rng = widgets.Label()\n",
    "def range_cb(value):\n",
    "    global rng\n",
    "    rng.value = str(value)\n",
    "_range = Range('_range')\n",
    "myHTTPRequestHandler.callback.update({\"_range\": range_cb})\n",
    "output=widgets.Output()\n",
    "with output:\n",
    "    display(_range)\n",
    "widgets.HBox([output,rng])"
   ]
  },
  {
   "cell_type": "code",
   "execution_count": 12,
   "id": "24ca4780-997f-4849-af56-2da37fe91396",
   "metadata": {},
   "outputs": [],
   "source": [
    "# stop()"
   ]
  },
  {
   "cell_type": "code",
   "execution_count": null,
   "id": "dad8d890-89df-429d-ae31-46d5fe9d4c20",
   "metadata": {},
   "outputs": [],
   "source": []
  }
 ],
 "metadata": {
  "kernelspec": {
   "display_name": "Python 3 (ipykernel)",
   "language": "python",
   "name": "python3"
  },
  "language_info": {
   "codemirror_mode": {
    "name": "ipython",
    "version": 3
   },
   "file_extension": ".py",
   "mimetype": "text/x-python",
   "name": "python",
   "nbconvert_exporter": "python",
   "pygments_lexer": "ipython3",
   "version": "3.9.7"
  }
 },
 "nbformat": 4,
 "nbformat_minor": 5
}
