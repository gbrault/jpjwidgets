{
 "cells": [
  {
   "cell_type": "markdown",
   "id": "d7a38a85-20b5-45e4-b6df-2152b9346948",
   "metadata": {},
   "source": [
    "# Excel Sheet Front-End"
   ]
  },
  {
   "cell_type": "markdown",
   "id": "edf6655c-b256-4b9a-a370-a8863f4392d6",
   "metadata": {},
   "source": [
    "https://github.com/myliang/x-spreadsheet"
   ]
  },
  {
   "cell_type": "markdown",
   "id": "06631031-93ce-4692-bcfe-5f8635d05a8e",
   "metadata": {},
   "source": [
    "## Libraries"
   ]
  },
  {
   "cell_type": "code",
   "execution_count": 1,
   "id": "3f7ea62d-07af-4ecc-87b7-3583abfb57de",
   "metadata": {},
   "outputs": [],
   "source": [
    "from httpserver import start, stop\n",
    "from http.server import SimpleHTTPRequestHandler, HTTPServer\n",
    "import os\n",
    "from urllib.parse import urlparse, parse_qs\n",
    "import ipywidgets as widgets\n",
    "import time"
   ]
  },
  {
   "cell_type": "markdown",
   "id": "ee800515-4e3e-4f26-ab70-aa7bf9e5d42d",
   "metadata": {},
   "source": [
    "## Backend: the HTTP server"
   ]
  },
  {
   "cell_type": "markdown",
   "id": "06e3ae33-d0d7-4e1c-8f2b-119503f794db",
   "metadata": {
    "tags": []
   },
   "source": [
    "### Widgets python implementation"
   ]
  },
  {
   "cell_type": "code",
   "execution_count": 2,
   "id": "3cba3676-578b-4799-97e5-a01dfcff416e",
   "metadata": {},
   "outputs": [
    {
     "data": {
      "application/vnd.jupyter.widget-view+json": {
       "model_id": "17f943d8c5624ec7a87ab32beb48495b",
       "version_major": 2,
       "version_minor": 0
      },
      "text/plain": [
       "Textarea(value='', layout=Layout(width='50%'))"
      ]
     },
     "metadata": {},
     "output_type": "display_data"
    }
   ],
   "source": [
    "logsw=widgets.Textarea(layout=widgets.Layout(width='50%'))\n",
    "logsw.value = \"\"\n",
    "bag ={}\n",
    "class myHTTPRequestHandler(SimpleHTTPRequestHandler):\n",
    "    callback={}\n",
    "    def __init__(self, *args, directory=None,bag=bag, **kwargs):\n",
    "        self.bag = bag\n",
    "        self.directory = os.path.join(os.getcwd(),\"widgets\")\n",
    "        super().__init__(*args, directory=self.directory, **kwargs)\n",
    "        # print(self.directory)\n",
    "    def end_headers(self):\n",
    "        super().end_headers()\n",
    "    def do_GET(self):\n",
    "        self.parsed_path = urlparse(self.path)\n",
    "        self.queryparams = parse_qs(self.parsed_path.query)\n",
    "        if self.path.endswith('/version'):\n",
    "            self.version()\n",
    "        elif self.parsed_path.path.endswith('/setvalue'):\n",
    "            self.setvalue()\n",
    "        else:\n",
    "            super().do_GET()\n",
    "    def version(self):\n",
    "        ans = '{\"version\": \"0.0\"}'\n",
    "        eans = ans.encode()        \n",
    "        self.send_response(200)\n",
    "        self.send_header(\"Content-type\", \"application/json\")\n",
    "        self.send_header(\"Content-Length\",len(eans))\n",
    "        self.end_headers()\n",
    "        self.wfile.write(eans)\n",
    "    def setvalue(self):\n",
    "        self.bag.update({self.queryparams['variable'][0]:self.queryparams['value'][0]})\n",
    "        if self.queryparams['variable'][0] in myHTTPRequestHandler.callback:\n",
    "            self.callback[self.queryparams['variable'][0]](self.queryparams['value'][0])\n",
    "        self.version() \n",
    "    def log_message(self, format, *args):\n",
    "        global logsw\n",
    "        v = format % args\n",
    "        t = time.localtime()\n",
    "        current_time = time.strftime(\"%H:%M:%S\", t)\n",
    "        logsw.value += current_time + \" \" + v +\"\\n\"\n",
    "logsw"
   ]
  },
  {
   "cell_type": "code",
   "execution_count": 3,
   "id": "f7a87a40-6467-41e8-a437-578a79b40172",
   "metadata": {},
   "outputs": [
    {
     "name": "stdout",
     "output_type": "stream",
     "text": [
      "Starting httpd...\n",
      "\n"
     ]
    }
   ],
   "source": [
    "start(handler_class=myHTTPRequestHandler, port=8085)"
   ]
  },
  {
   "cell_type": "markdown",
   "id": "30fb5a22-3772-42a5-a37d-f8aca44b7837",
   "metadata": {},
   "source": [
    "## Frontend"
   ]
  },
  {
   "cell_type": "markdown",
   "id": "1f444025-d26e-431b-8c96-20937ed4893e",
   "metadata": {},
   "source": [
    "### Widget javascript implementation"
   ]
  },
  {
   "cell_type": "code",
   "execution_count": 4,
   "id": "0ee1ada7-b525-458e-aff2-510e8461634e",
   "metadata": {},
   "outputs": [],
   "source": [
    "class LoadModule(object):\n",
    "    \"\"\"This class is loading the xlsx.min.js module\"\"\"\n",
    "    def _repr_javascript_(self):\n",
    "        return '''debugger;\n",
    "var id = document.getElementById(\"x_spreadsheet\")\n",
    "if (id!=null){\n",
    "    if ('x_spreadsheet' in window){\n",
    "        // the module main.js is already loaded\n",
    "        fetch(window.location.origin+'/proxy/8085/setvalue?value=1&variable=loaded')\n",
    "    } else {\n",
    "        console.log(\"makeIt not found!!!!\")\n",
    "    }\n",
    "} else {\n",
    "    const fileref = document.createElement('link');\n",
    "    fileref.rel = \"stylesheet\";\n",
    "    fileref.type = \"text/css\";\n",
    "    fileref.href = \"https://unpkg.com/x-data-spreadsheet@1.1.5/dist/xspreadsheet.css\";\n",
    "    document.head.append(fileref);\n",
    "    var script= document.createElement('script');\n",
    "    script.src = \"https://unpkg.com/x-data-spreadsheet@1.1.5/dist/xspreadsheet.js\";\n",
    "    script.type = \"module\"\n",
    "    script.id = \"x_spreadsheet\"\n",
    "    document.head.appendChild(script);\n",
    "    function check(){\n",
    "       if (!('x_spreadsheet' in window)){\n",
    "           setTimeout(function(){ check()}, 500);\n",
    "       }\n",
    "    }\n",
    "    check()\n",
    "    // sub modules are still not loaded (let them 2 secs)\n",
    "    setTimeout(fetch, 2000, window.location.origin+'/proxy/8085/setvalue?value=1&variable=loaded' )\n",
    "}\n",
    "'''"
   ]
  },
  {
   "cell_type": "code",
   "execution_count": 5,
   "id": "adf73337-4da8-45bb-a344-5569366b199b",
   "metadata": {},
   "outputs": [],
   "source": [
    "class ExecuteModule(object):\n",
    "    \"\"\"This class execute the code once the modul is loaded\"\"\"\n",
    "    def _repr_javascript_(self):\n",
    "        return '''debugger;\n",
    "x_spreadsheet('#xspreadsheet');'''"
   ]
  },
  {
   "cell_type": "code",
   "execution_count": 6,
   "id": "ace14ed0-6697-4c5f-82c4-a6a77f5f9d59",
   "metadata": {},
   "outputs": [],
   "source": [
    "class DisplayModule(object):\n",
    "    \"\"\"This class is creating the element where the output of the will set UI elements\"\"\"\n",
    "    def _repr_javascript_(self):\n",
    "        return '''debugger;\n",
    "        let divWrapper = document.createElement('div');\n",
    "        divWrapper.id = \"xspreadsheet\";\n",
    "        element.appendChild(divWrapper);        \n",
    "        '''    "
   ]
  },
  {
   "cell_type": "code",
   "execution_count": 7,
   "id": "2c4cce4c-eeb7-4f7b-b9c0-28e12bf27570",
   "metadata": {
    "tags": []
   },
   "outputs": [
    {
     "data": {
      "application/javascript": [
       "debugger;\n",
       "        let divWrapper = document.createElement('div');\n",
       "        divWrapper.id = \"xspreadsheet\";\n",
       "        element.appendChild(divWrapper);        \n",
       "        "
      ],
      "text/plain": [
       "<__main__.DisplayModule at 0x724dba50>"
      ]
     },
     "execution_count": 7,
     "metadata": {},
     "output_type": "execute_result"
    }
   ],
   "source": [
    "DisplayModule()"
   ]
  },
  {
   "cell_type": "code",
   "execution_count": 8,
   "id": "a3a268df-3081-4eea-92ab-f177368d2f4d",
   "metadata": {},
   "outputs": [
    {
     "data": {
      "application/javascript": [
       "debugger;\n",
       "var id = document.getElementById(\"x_spreadsheet\")\n",
       "if (id!=null){\n",
       "    if ('x_spreadsheet' in window){\n",
       "        // the module main.js is already loaded\n",
       "        fetch(window.location.origin+'/proxy/8085/setvalue?value=1&variable=loaded')\n",
       "    } else {\n",
       "        console.log(\"makeIt not found!!!!\")\n",
       "    }\n",
       "} else {\n",
       "    const fileref = document.createElement('link');\n",
       "    fileref.rel = \"stylesheet\";\n",
       "    fileref.type = \"text/css\";\n",
       "    fileref.href = \"https://unpkg.com/x-data-spreadsheet@1.1.5/dist/xspreadsheet.css\";\n",
       "    document.head.append(fileref);\n",
       "    var script= document.createElement('script');\n",
       "    script.src = \"https://unpkg.com/x-data-spreadsheet@1.1.5/dist/xspreadsheet.js\";\n",
       "    script.type = \"module\"\n",
       "    script.id = \"x_spreadsheet\"\n",
       "    document.head.appendChild(script);\n",
       "    function check(){\n",
       "       if (!('x_spreadsheet' in window)){\n",
       "           setTimeout(function(){ check()}, 500);\n",
       "       }\n",
       "    }\n",
       "    check()\n",
       "    // sub modules are still not loaded (let them 2 secs)\n",
       "    setTimeout(fetch, 2000, window.location.origin+'/proxy/8085/setvalue?value=1&variable=loaded' )\n",
       "}\n"
      ],
      "text/plain": [
       "<__main__.LoadModule at 0x724f81b0>"
      ]
     },
     "execution_count": 8,
     "metadata": {},
     "output_type": "execute_result"
    }
   ],
   "source": [
    "def loaded_cb(value):\n",
    "    display(ExecuteModule())\n",
    "myHTTPRequestHandler.callback.update({\"loaded\": loaded_cb})\n",
    "LoadModule()"
   ]
  },
  {
   "cell_type": "code",
   "execution_count": 9,
   "id": "df1dd093-636a-44f6-ac8c-284043991a48",
   "metadata": {},
   "outputs": [
    {
     "data": {
      "application/javascript": [
       "debugger;\n",
       "x_spreadsheet('#xspreadsheet');"
      ],
      "text/plain": [
       "<__main__.ExecuteModule at 0x724dbfd0>"
      ]
     },
     "metadata": {},
     "output_type": "display_data"
    }
   ],
   "source": [
    "#stop()"
   ]
  },
  {
   "cell_type": "code",
   "execution_count": null,
   "id": "cf5b624f-a19b-4e91-b938-5295195503d4",
   "metadata": {},
   "outputs": [],
   "source": []
  }
 ],
 "metadata": {
  "kernelspec": {
   "display_name": "Python 3 (ipykernel)",
   "language": "python",
   "name": "python3"
  },
  "language_info": {
   "codemirror_mode": {
    "name": "ipython",
    "version": 3
   },
   "file_extension": ".py",
   "mimetype": "text/x-python",
   "name": "python",
   "nbconvert_exporter": "python",
   "pygments_lexer": "ipython3",
   "version": "3.7.3"
  }
 },
 "nbformat": 4,
 "nbformat_minor": 5
}
