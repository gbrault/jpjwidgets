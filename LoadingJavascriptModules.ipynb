{
 "cells": [
  {
   "cell_type": "markdown",
   "id": "cbcab449-2820-43a5-8f6d-5b0159c72715",
   "metadata": {},
   "source": [
    "# Loading Javascript modules"
   ]
  },
  {
   "cell_type": "markdown",
   "id": "9e98351d-358c-49d9-98e4-e815f055b8a5",
   "metadata": {},
   "source": [
    "## Run it!"
   ]
  },
  {
   "cell_type": "markdown",
   "id": "296a6eca-9bdd-4e54-8e58-989b1d164c65",
   "metadata": {},
   "source": [
    "* make sure jupyter server proxy is installed\n",
    "* copy httpserver.py and LoadingJavascriptModules.ipynb in the same directory of a Jupyter Lab server\n",
    "* create a widgets subdirectory there and copy: main.js and the module subdirectory\n",
    "* Run the notbook (Kernel -> Restart Kernel And Run All Cells...)\n",
    "\n",
    "|     |     |\n",
    "| --- | --- |\n",
    "| **You should get this right hand picture** | ![](./widgets/expected.png) |"
   ]
  },
  {
   "cell_type": "markdown",
   "id": "eabe1686-f3d4-49fc-8418-d8f3843e8721",
   "metadata": {},
   "source": [
    "## What does it do?"
   ]
  },
  {
   "cell_type": "markdown",
   "id": "c411bfb8-5771-418e-8daf-2d54d9a4b718",
   "metadata": {},
   "source": [
    "* The normal behavior of Jupyter Lab notebook is to have all frontend components pre-loaded\n",
    "* Some time, experimentation is one use-case, loading frontend components is necessary\n",
    "* This notebook present a way to load javascript modules dynamically"
   ]
  },
  {
   "cell_type": "markdown",
   "id": "436ba85e-2674-4e3a-b3ce-d79c10475887",
   "metadata": {},
   "source": [
    "## Libraries"
   ]
  },
  {
   "cell_type": "code",
   "execution_count": 1,
   "id": "bade9c61-a6d5-4a84-90c8-c8d2f4b03189",
   "metadata": {},
   "outputs": [],
   "source": [
    "from httpserver import start, stop\n",
    "from http.server import SimpleHTTPRequestHandler, HTTPServer\n",
    "import os\n",
    "from urllib.parse import urlparse, parse_qs\n",
    "import ipywidgets as widgets\n",
    "import time"
   ]
  },
  {
   "cell_type": "markdown",
   "id": "ea2d8760-7cf7-4625-8761-2e0fafc922ff",
   "metadata": {},
   "source": [
    "## Backend: the HTTP server"
   ]
  },
  {
   "cell_type": "markdown",
   "id": "a0b7da94-5fef-4a49-8761-f5771fcf97b8",
   "metadata": {
    "tags": []
   },
   "source": [
    "### Widgets python implementation"
   ]
  },
  {
   "cell_type": "code",
   "execution_count": 2,
   "id": "f7efc31c-6c1a-4725-b2d9-d93a3d353b8e",
   "metadata": {},
   "outputs": [
    {
     "data": {
      "application/vnd.jupyter.widget-view+json": {
       "model_id": "22b8007b673c4c1a8566bf542e434d26",
       "version_major": 2,
       "version_minor": 0
      },
      "text/plain": [
       "Textarea(value='', layout=Layout(width='50%'))"
      ]
     },
     "metadata": {},
     "output_type": "display_data"
    }
   ],
   "source": [
    "logsw=widgets.Textarea(layout=widgets.Layout(width='50%'))\n",
    "logsw.value = \"\"\n",
    "bag ={}\n",
    "class myHTTPRequestHandler(SimpleHTTPRequestHandler):\n",
    "    callback={}\n",
    "    def __init__(self, *args, directory=None,bag=bag, **kwargs):\n",
    "        self.bag = bag\n",
    "        self.directory = os.path.join(os.getcwd(),\"widgets\")\n",
    "        super().__init__(*args, directory=self.directory, **kwargs)\n",
    "        # print(self.directory)\n",
    "    def end_headers(self):\n",
    "        super().end_headers()\n",
    "    def do_GET(self):\n",
    "        self.parsed_path = urlparse(self.path)\n",
    "        self.queryparams = parse_qs(self.parsed_path.query)\n",
    "        if self.path.endswith('/version'):\n",
    "            self.version()\n",
    "        elif self.parsed_path.path.endswith('/setvalue'):\n",
    "            self.setvalue()\n",
    "        else:\n",
    "            super().do_GET()\n",
    "    def version(self):\n",
    "        ans = '{\"version\": \"0.0\"}'\n",
    "        eans = ans.encode()        \n",
    "        self.send_response(200)\n",
    "        self.send_header(\"Content-type\", \"application/json\")\n",
    "        self.send_header(\"Content-Length\",len(eans))\n",
    "        self.end_headers()\n",
    "        self.wfile.write(eans)\n",
    "    def setvalue(self):\n",
    "        self.bag.update({self.queryparams['variable'][0]:self.queryparams['value'][0]})\n",
    "        if self.queryparams['variable'][0] in myHTTPRequestHandler.callback:\n",
    "            self.callback[self.queryparams['variable'][0]](self.queryparams['value'][0])\n",
    "        self.version() \n",
    "    def log_message(self, format, *args):\n",
    "        global logsw\n",
    "        v = format % args\n",
    "        t = time.localtime()\n",
    "        current_time = time.strftime(\"%H:%M:%S\", t)\n",
    "        logsw.value += current_time + \" \" + v +\"\\n\"\n",
    "logsw"
   ]
  },
  {
   "cell_type": "code",
   "execution_count": 3,
   "id": "6c48fbfb-b760-4ba7-abed-5f174a729b54",
   "metadata": {},
   "outputs": [
    {
     "name": "stdout",
     "output_type": "stream",
     "text": [
      "Starting httpd...\n",
      "\n"
     ]
    }
   ],
   "source": [
    "start(handler_class=myHTTPRequestHandler, port=8085)"
   ]
  },
  {
   "cell_type": "markdown",
   "id": "e42cea1e-8649-49f1-8f5a-f94f8ab3d836",
   "metadata": {},
   "source": [
    "## Frontend"
   ]
  },
  {
   "cell_type": "markdown",
   "id": "67d236d2-97eb-4031-9ae9-11f07d1cd455",
   "metadata": {},
   "source": [
    "### Widget javascript implementation"
   ]
  },
  {
   "cell_type": "markdown",
   "id": "b9a06369-2ab7-4966-97dc-3755153c938d",
   "metadata": {},
   "source": [
    "This is the 'basic modules' example you can find [there](https://github.com/mdn/js-examples/tree/master/modules/basic-modules)\n",
    "\n",
    "The main.js file is slightly changed"
   ]
  },
  {
   "cell_type": "code",
   "execution_count": 4,
   "id": "a18903a1-5c37-4295-8648-60d91127710b",
   "metadata": {},
   "outputs": [],
   "source": [
    "class LoadModule(object):\n",
    "    \"\"\"This class is loading the main.js module\"\"\"\n",
    "    def _repr_javascript_(self):\n",
    "        return '''debugger;\n",
    "var id = document.getElementById(\"moduleMain\")\n",
    "if (id!=null){\n",
    "    if ('makeIt' in window){\n",
    "        // the module main.js is already loaded\n",
    "        fetch(window.location.origin+'/proxy/8085/setvalue?value=1&variable=loaded')\n",
    "    } else {\n",
    "        console.log(\"makeIt not found!!!!\")\n",
    "    }\n",
    "} else {\n",
    "    var script= document.createElement('script');\n",
    "    script.src = \"/proxy/8085/main.js\";\n",
    "    script.type = \"module\"\n",
    "    script.id = \"moduleMain\"\n",
    "    document.head.appendChild(script);\n",
    "    function check(){\n",
    "       if (!('makeIt' in window)){\n",
    "           setTimeout(function(){ check()}, 500);\n",
    "       }\n",
    "    }\n",
    "    check()\n",
    "    // sub modules are still not loaded (let them 2 secs)\n",
    "    setTimeout(fetch, 2000, window.location.origin+'/proxy/8085/setvalue?value=1&variable=loaded' )\n",
    "}\n",
    "'''"
   ]
  },
  {
   "cell_type": "code",
   "execution_count": 5,
   "id": "c519e950-b973-4ac2-9f91-a052b3192be1",
   "metadata": {},
   "outputs": [],
   "source": [
    "class ExecuteModule(object):\n",
    "    \"\"\"This class execute the code once the modul is loaded\"\"\"\n",
    "    def _repr_javascript_(self):\n",
    "        return '''\n",
    "        element = document.getElementById(\"myElement0\");\n",
    "        element.innerHTML = \"\";\n",
    "        makeIt(element);\n",
    "        '''"
   ]
  },
  {
   "cell_type": "code",
   "execution_count": 6,
   "id": "fcbf8801-9b4a-4a64-9f09-b99f2feca087",
   "metadata": {},
   "outputs": [],
   "source": [
    "class DisplayModule(object):\n",
    "    \"\"\"This class is creating the element where the output of the will set UI elements\"\"\"\n",
    "    def _repr_javascript_(self):\n",
    "        return '''\n",
    "        element.id=\"myElement0\";\n",
    "        // console.log(element);\n",
    "        '''    "
   ]
  },
  {
   "cell_type": "code",
   "execution_count": 7,
   "id": "cb8cfc6a-c7bc-4742-af2b-047aa6371f39",
   "metadata": {},
   "outputs": [
    {
     "data": {
      "application/javascript": [
       "\n",
       "        element.id=\"myElement0\";\n",
       "        // console.log(element);\n",
       "        "
      ],
      "text/plain": [
       "<__main__.DisplayModule at 0x72e98e50>"
      ]
     },
     "execution_count": 7,
     "metadata": {},
     "output_type": "execute_result"
    }
   ],
   "source": [
    "DisplayModule()"
   ]
  },
  {
   "cell_type": "code",
   "execution_count": 8,
   "id": "d99cdaf4-191c-4690-9981-cdbfaac3bcfe",
   "metadata": {},
   "outputs": [
    {
     "data": {
      "application/javascript": [
       "debugger;\n",
       "var id = document.getElementById(\"moduleMain\")\n",
       "if (id!=null){\n",
       "    if ('makeIt' in window){\n",
       "        // the module main.js is already loaded\n",
       "        fetch(window.location.origin+'/proxy/8085/setvalue?value=1&variable=loaded')\n",
       "    } else {\n",
       "        console.log(\"makeIt not found!!!!\")\n",
       "    }\n",
       "} else {\n",
       "    var script= document.createElement('script');\n",
       "    script.src = \"/proxy/8085/main.js\";\n",
       "    script.type = \"module\"\n",
       "    script.id = \"moduleMain\"\n",
       "    document.head.appendChild(script);\n",
       "    function check(){\n",
       "       if (!('makeIt' in window)){\n",
       "           setTimeout(function(){ check()}, 500);\n",
       "       }\n",
       "    }\n",
       "    check()\n",
       "    // sub modules are still not loaded (let them 2 secs)\n",
       "    setTimeout(fetch, 2000, window.location.origin+'/proxy/8085/setvalue?value=1&variable=loaded' )\n",
       "}\n"
      ],
      "text/plain": [
       "<__main__.LoadModule at 0x72eb3530>"
      ]
     },
     "execution_count": 8,
     "metadata": {},
     "output_type": "execute_result"
    }
   ],
   "source": [
    "def loaded_cb(value):\n",
    "    display(ExecuteModule())\n",
    "myHTTPRequestHandler.callback.update({\"loaded\": loaded_cb})\n",
    "LoadModule()"
   ]
  },
  {
   "cell_type": "code",
   "execution_count": 9,
   "id": "904662be-52df-4205-a55f-151656a2faa8",
   "metadata": {},
   "outputs": [
    {
     "data": {
      "application/javascript": [
       "\n",
       "        element = document.getElementById(\"myElement0\");\n",
       "        element.innerHTML = \"\";\n",
       "        makeIt(element);\n",
       "        "
      ],
      "text/plain": [
       "<__main__.ExecuteModule at 0x748a2bb0>"
      ]
     },
     "metadata": {},
     "output_type": "display_data"
    }
   ],
   "source": [
    "#stop()"
   ]
  },
  {
   "cell_type": "code",
   "execution_count": null,
   "id": "ea56e28c-04e0-49ed-bb79-5c68304efada",
   "metadata": {},
   "outputs": [],
   "source": []
  }
 ],
 "metadata": {
  "kernelspec": {
   "display_name": "Python 3 (ipykernel)",
   "language": "python",
   "name": "python3"
  },
  "language_info": {
   "codemirror_mode": {
    "name": "ipython",
    "version": 3
   },
   "file_extension": ".py",
   "mimetype": "text/x-python",
   "name": "python",
   "nbconvert_exporter": "python",
   "pygments_lexer": "ipython3",
   "version": "3.7.3"
  }
 },
 "nbformat": 4,
 "nbformat_minor": 5
}
