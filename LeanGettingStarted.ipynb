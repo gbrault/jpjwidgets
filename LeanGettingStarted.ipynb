{
 "cells": [
  {
   "cell_type": "markdown",
   "id": "cbcab449-2820-43a5-8f6d-5b0159c72715",
   "metadata": {},
   "source": [
    "# Getting Started -- Lean"
   ]
  },
  {
   "cell_type": "markdown",
   "id": "296a6eca-9bdd-4e54-8e58-989b1d164c65",
   "metadata": {},
   "source": [
    "* make sure jupyter server proxy is installed\n",
    "* copy httpserver.py and LeanGettingStarted.ipynb in the same directory of a Jupyter Lab server\n",
    "* create a widgets subdirectory there\n",
    "* Run the notbook (Kernel -> Restart Kernel And Run All Cells...)\n",
    "\n",
    "you should get the url of this notebook displayed in the last cell"
   ]
  },
  {
   "cell_type": "markdown",
   "id": "436ba85e-2674-4e3a-b3ce-d79c10475887",
   "metadata": {},
   "source": [
    "## Libraries"
   ]
  },
  {
   "cell_type": "code",
   "execution_count": 1,
   "id": "bade9c61-a6d5-4a84-90c8-c8d2f4b03189",
   "metadata": {},
   "outputs": [],
   "source": [
    "from httpserver import start, stop\n",
    "from http.server import SimpleHTTPRequestHandler, HTTPServer\n",
    "import os\n",
    "from urllib.parse import urlparse, parse_qs\n",
    "from IPython.display import clear_output, HTML\n",
    "import json\n",
    "import ipywidgets as widgets\n",
    "import time"
   ]
  },
  {
   "cell_type": "markdown",
   "id": "806a9242-5324-421a-8912-bd7e87d67e24",
   "metadata": {},
   "source": [
    "## Backend: the HTTP server"
   ]
  },
  {
   "cell_type": "markdown",
   "id": "a0b7da94-5fef-4a49-8761-f5771fcf97b8",
   "metadata": {
    "tags": []
   },
   "source": [
    "### Widgets python implementation"
   ]
  },
  {
   "cell_type": "code",
   "execution_count": 2,
   "id": "f7efc31c-6c1a-4725-b2d9-d93a3d353b8e",
   "metadata": {},
   "outputs": [
    {
     "data": {
      "application/vnd.jupyter.widget-view+json": {
       "model_id": "c460211197844062aae43575cbd9a7a4",
       "version_major": 2,
       "version_minor": 0
      },
      "text/plain": [
       "Output()"
      ]
     },
     "metadata": {},
     "output_type": "display_data"
    }
   ],
   "source": [
    "logsw=widgets.Textarea(layout=widgets.Layout(width='50%'))\n",
    "logsw.value = \"\"\n",
    "bag ={}\n",
    "class myHTTPRequestHandler(SimpleHTTPRequestHandler):\n",
    "    callback={}\n",
    "    def __init__(self, *args, directory=None,bag=bag, **kwargs):\n",
    "        self.bag = bag\n",
    "        self.directory = os.path.join(os.getcwd(),\"widgets\")\n",
    "        super().__init__(*args, directory=self.directory, **kwargs)\n",
    "        # print(self.directory)\n",
    "    def end_headers(self):\n",
    "        super().end_headers()\n",
    "    def do_GET(self):\n",
    "        self.parsed_path = urlparse(self.path)\n",
    "        self.queryparams = parse_qs(self.parsed_path.query)\n",
    "        if self.path.endswith('/version'):\n",
    "            self.version()\n",
    "        elif self.parsed_path.path.endswith('/setvalue'):\n",
    "            self.setvalue()\n",
    "        else:\n",
    "            super().do_GET()\n",
    "    def version(self):\n",
    "        ans = '{\"version\": \"0.0\"}'\n",
    "        eans = ans.encode()        \n",
    "        self.send_response(200)\n",
    "        self.send_header(\"Content-type\", \"application/json\")\n",
    "        self.send_header(\"Content-Length\",len(eans))\n",
    "        self.end_headers()\n",
    "        self.wfile.write(eans)\n",
    "    def setvalue(self):\n",
    "        self.bag.update({self.queryparams['variable'][0]:self.queryparams['value'][0]})\n",
    "        if self.queryparams['variable'][0] in myHTTPRequestHandler.callback:\n",
    "            self.callback[self.queryparams['variable'][0]](self.queryparams['value'][0])\n",
    "        self.version() \n",
    "    def log_message(self, format, *args):\n",
    "        global logsw\n",
    "        v = format % args\n",
    "        t = time.localtime()\n",
    "        current_time = time.strftime(\"%H:%M:%S\", t)\n",
    "        logsw.value += current_time + \" \" + v +\"\\n\"\n",
    "logsw"
   ]
  },
  {
   "cell_type": "code",
   "execution_count": 3,
   "id": "6c48fbfb-b760-4ba7-abed-5f174a729b54",
   "metadata": {},
   "outputs": [
    {
     "name": "stdout",
     "output_type": "stream",
     "text": [
      "Starting httpd...\n",
      "\n"
     ]
    }
   ],
   "source": [
    "start(handler_class=myHTTPRequestHandler, port=8085)"
   ]
  },
  {
   "cell_type": "markdown",
   "id": "ef99d018-3f34-45ad-bbed-63b9b7b0bc51",
   "metadata": {},
   "source": [
    "## Frontend"
   ]
  },
  {
   "cell_type": "markdown",
   "id": "67d236d2-97eb-4031-9ae9-11f07d1cd455",
   "metadata": {},
   "source": [
    "### Widget javascript implementation"
   ]
  },
  {
   "cell_type": "code",
   "execution_count": 4,
   "id": "d75d1309-d062-4dff-9c99-b4a9aa2dced0",
   "metadata": {},
   "outputs": [
    {
     "data": {
      "text/html": [
       "<script>fetch( window.location.origin+'/proxy/8085/setvalue?value='+encodeURIComponent(window.location)+'&variable=url')</script>"
      ],
      "text/plain": [
       "<IPython.core.display.HTML object>"
      ]
     },
     "execution_count": 4,
     "metadata": {},
     "output_type": "execute_result"
    }
   ],
   "source": [
    "HTML(\"<script>fetch( window.location.origin+'/proxy/8085/setvalue?value='+encodeURIComponent(window.location)+'&variable=url')</script>\")"
   ]
  },
  {
   "cell_type": "code",
   "execution_count": 5,
   "id": "5e086edb-cc21-4d43-9990-b8d3643b5fa4",
   "metadata": {},
   "outputs": [
    {
     "data": {
      "text/plain": [
       "{'url': 'http://raspberry0:8888/lab/tree/Labwidgets/LeanGettingStarted.ipynb'}"
      ]
     },
     "execution_count": 5,
     "metadata": {},
     "output_type": "execute_result"
    }
   ],
   "source": [
    "while 'url' not in bag:\n",
    "    time.sleep(0.1)\n",
    "bag"
   ]
  },
  {
   "cell_type": "code",
   "execution_count": 6,
   "id": "978e9c85-0338-4da2-8b29-bc078c21e2b1",
   "metadata": {},
   "outputs": [],
   "source": [
    "stop()"
   ]
  },
  {
   "cell_type": "code",
   "execution_count": null,
   "id": "1d488029-2e07-4d3a-9b41-d224e85db2c5",
   "metadata": {},
   "outputs": [],
   "source": []
  }
 ],
 "metadata": {
  "kernelspec": {
   "display_name": "Python 3 (ipykernel)",
   "language": "python",
   "name": "python3"
  },
  "language_info": {
   "codemirror_mode": {
    "name": "ipython",
    "version": 3
   },
   "file_extension": ".py",
   "mimetype": "text/x-python",
   "name": "python",
   "nbconvert_exporter": "python",
   "pygments_lexer": "ipython3",
   "version": "3.7.3"
  }
 },
 "nbformat": 4,
 "nbformat_minor": 5
}
